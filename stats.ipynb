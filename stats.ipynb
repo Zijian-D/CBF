{
 "cells": [
  {
   "cell_type": "code",
   "execution_count": 1,
   "metadata": {
    "collapsed": true
   },
   "outputs": [],
   "source": [
    "import pandas as pd\n",
    "import statsmodels.api as sm\n",
    "import numpy as np\n",
    "import statsmodels.stats as STA"
   ]
  },
  {
   "cell_type": "code",
   "execution_count": 2,
   "outputs": [],
   "source": [
    "master = pd.DataFrame(pd.read_excel('QCLAB_AD_mice.xlsx'))\n",
    "target = pd.DataFrame(pd.read_csv('studywide_stats_for_volume.txt', sep='\\t'))"
   ],
   "metadata": {
    "collapsed": false,
    "pycharm": {
     "name": "#%%\n"
    }
   }
  },
  {
   "cell_type": "code",
   "execution_count": 3,
   "outputs": [
    {
     "name": "stdout",
     "output_type": "stream",
     "text": [
      "       Animal       Date Modality Genotype     DiseaseModel   Sex Treatment  \\\n",
      "0  190610-1:1 2019-08-01      MRI   APOE44  AD_genetic_risk  male      none   \n",
      "1  190610_2:1 2019-08-01      MRI   APOE44  AD_genetic_risk  male      none   \n",
      "2  190610_3:1 2019-08-01      MRI   APOE44  AD_genetic_risk  male      none   \n",
      "3  190610-4:1 2019-08-01      MRI   APOE44  AD_genetic_risk  male      none   \n",
      "4  190610-5:1 2019-08-01      MRI   APOE44  AD_genetic_risk  male      none   \n",
      "\n",
      "  weight        DOB MaterialDecomposition  ... OffsetPerf1 Perf2_1p5  \\\n",
      "0   30.7 2018-04-03                   NaN  ...         NaN      45.0   \n",
      "1   32.1 2018-04-03                   NaN  ...         NaN      59.0   \n",
      "2   31.6 2018-04-03                   NaN  ...         NaN      78.0   \n",
      "3   30.6 2018-04-03                   NaN  ...         NaN      96.0   \n",
      "4   32.2 2018-04-03                   NaN  ...         NaN     115.0   \n",
      "\n",
      "  OffsetPerf2 T1map1  OffsetT1map  T1map2  OffsetT2map  Effciency  LabelOptim  \\\n",
      "0         NaN    5.0          NaN     5.0          NaN         38         NaN   \n",
      "1         NaN   61.0          NaN    62.0          NaN         64         NaN   \n",
      "2         NaN   80.0          NaN    85.0          NaN         90         NaN   \n",
      "3         NaN  109.0          NaN   108.0          NaN        105         NaN   \n",
      "4         NaN  126.0          NaN   125.0          NaN        123         NaN   \n",
      "\n",
      "  ControlOptim  \n",
      "0          NaN  \n",
      "1          NaN  \n",
      "2          NaN  \n",
      "3          NaN  \n",
      "4          NaN  \n",
      "\n",
      "[5 rows x 46 columns]\n",
      "   ROI  B51315  B51325  B51732  B51742  B51852  B51861  B51872  B51882  \\\n",
      "0    0  40.438  31.230  30.371  30.487  35.178  33.224  33.358  26.624   \n",
      "1    1   0.799   0.821   0.748   0.722   0.705   0.793   0.790   0.716   \n",
      "2    2   0.321   0.311   0.339   0.300   0.297   0.320   0.298   0.286   \n",
      "3    3   0.717   0.782   0.776   0.734   0.763   0.803   0.760   0.744   \n",
      "4    4   0.185   0.192   0.206   0.188   0.220   0.217   0.186   0.193   \n",
      "\n",
      "   B51813  ...  B54645  B54751  B49913  B49924  B49935  B49946  B49957  \\\n",
      "0  28.806  ...  33.039  26.003  46.989  53.123  54.062  50.480  51.421   \n",
      "1   0.793  ...   0.769   0.762   0.734   0.791   0.633   0.640   0.765   \n",
      "2   0.365  ...   0.300   0.322   0.304   0.342   0.251   0.284   0.304   \n",
      "3   0.850  ...   0.703   0.702   0.717   0.857   0.723   0.832   0.786   \n",
      "4   0.244  ...   0.155   0.171   0.187   0.237   0.194   0.227   0.227   \n",
      "\n",
      "   B49968  B49978  B49901  \n",
      "0  57.203  48.701  53.889  \n",
      "1   0.692   0.762   0.750  \n",
      "2   0.307   0.339   0.351  \n",
      "3   0.807   0.904   0.827  \n",
      "4   0.227   0.211   0.213  \n",
      "\n",
      "[5 rows x 54 columns]\n"
     ]
    }
   ],
   "source": [
    "print(master.head())\n",
    "print(target.head())"
   ],
   "metadata": {
    "collapsed": false,
    "pycharm": {
     "name": "#%%\n"
    }
   }
  },
  {
   "cell_type": "code",
   "execution_count": 4,
   "outputs": [],
   "source": [
    "target.loc['sum'] = target.sum(axis = 0)\n",
    "target.loc['sum'] = target.loc['sum']-target.iloc[0]"
   ],
   "metadata": {
    "collapsed": false,
    "pycharm": {
     "name": "#%%\n"
    }
   }
  },
  {
   "cell_type": "code",
   "execution_count": 5,
   "outputs": [],
   "source": [
    "volume = target.drop(['ROI'], axis = 1)\n",
    "volume = volume.div(pd.Series(volume.loc['sum'], index=volume.columns))\n",
    "volume['ROI'] = target['ROI']\n",
    "volume = volume.drop(['sum'])"
   ],
   "metadata": {
    "collapsed": false,
    "pycharm": {
     "name": "#%%\n"
    }
   }
  },
  {
   "cell_type": "code",
   "execution_count": 6,
   "outputs": [],
   "source": [
    "mid = volume['ROI']\n",
    "volume.drop(labels=['ROI'], axis=1,inplace = True)\n",
    "volume.insert(0, 'ROI', mid)"
   ],
   "metadata": {
    "collapsed": false,
    "pycharm": {
     "name": "#%%\n"
    }
   }
  },
  {
   "cell_type": "code",
   "execution_count": 7,
   "outputs": [],
   "source": [
    "header = volume.columns"
   ],
   "metadata": {
    "collapsed": false,
    "pycharm": {
     "name": "#%%\n"
    }
   }
  },
  {
   "cell_type": "code",
   "execution_count": 8,
   "outputs": [],
   "source": [
    "volume.loc['type'] = 'N/A'\n",
    "for i in range(len(header)):\n",
    "    for j in range(len(master.loc[:]['SAMBA Brunno'])):\n",
    "        if header[i] == master.loc[j]['SAMBA Brunno']:\n",
    "            if master.loc[j]['Genotype'] == 'CVN':\n",
    "                volume.loc['type'][i] = master.loc[j]['Treatment']\n",
    "            else:\n",
    "                volume.loc['type'][i] = master.loc[j]['Genotype']\n"
   ],
   "metadata": {
    "collapsed": false,
    "pycharm": {
     "name": "#%%\n"
    }
   }
  },
  {
   "cell_type": "code",
   "execution_count": 9,
   "outputs": [],
   "source": [
    "volume.loc['encode'] = 'N/A'\n",
    "encode = {\n",
    "    'APOE22':2,\n",
    "    'APOE33':3,\n",
    "    'APOE44':4,\n",
    "    'sedentary':5,\n",
    "    'treadmill':6,\n",
    "    'wheel_only':7\n",
    "}\n",
    "for k in range(len(header)):\n",
    "    if volume.loc['type'][k] in encode.keys():\n",
    "        volume.loc['encode'][k] = encode[volume.loc['type'][k]]\n"
   ],
   "metadata": {
    "collapsed": false,
    "pycharm": {
     "name": "#%%\n"
    }
   }
  },
  {
   "cell_type": "code",
   "execution_count": 10,
   "outputs": [],
   "source": [
    "APOE = volume.copy(deep=True)\n",
    "drop = []\n",
    "for m in range(len(header)):\n",
    "    if APOE.loc['encode'][m] not in [5,6,7]:\n",
    "        drop.append(header[m])\n",
    "\n"
   ],
   "metadata": {
    "collapsed": false,
    "pycharm": {
     "name": "#%%\n"
    }
   }
  },
  {
   "cell_type": "code",
   "execution_count": 11,
   "outputs": [],
   "source": [
    "for n,d in enumerate(drop):\n",
    "    APOE.drop(d,axis=1,inplace=True)"
   ],
   "metadata": {
    "collapsed": false,
    "pycharm": {
     "name": "#%%\n"
    }
   }
  },
  {
   "cell_type": "code",
   "execution_count": 12,
   "outputs": [],
   "source": [
    "APOE_comp = pd.DataFrame(columns=['ROI','P Value','R2'])\n",
    "APOE_comp['ROI'] = volume['ROI']"
   ],
   "metadata": {
    "collapsed": false,
    "pycharm": {
     "name": "#%%\n"
    }
   }
  },
  {
   "cell_type": "code",
   "execution_count": 13,
   "outputs": [],
   "source": [
    "APOE_comp.drop(APOE_comp.tail(2).index,inplace=True)"
   ],
   "metadata": {
    "collapsed": false,
    "pycharm": {
     "name": "#%%\n"
    }
   }
  },
  {
   "cell_type": "code",
   "execution_count": 14,
   "outputs": [],
   "source": [
    "for l in range(APOE.shape[0]-2):\n",
    "    x = np.array(APOE.loc['encode'],dtype=float)\n",
    "    x = sm.add_constant(x)\n",
    "    y = np.array(APOE.iloc[l][:],dtype=float)\n",
    "    model = sm.OLS(y,x)\n",
    "    result = model.fit()\n",
    "    pvalues = result.pvalues\n",
    "    r2 = result.rsquared\n",
    "    APOE_comp.iloc[l][1] = pvalues[1]\n",
    "    APOE_comp.iloc[l][2] = r2"
   ],
   "metadata": {
    "collapsed": false,
    "pycharm": {
     "name": "#%%\n"
    }
   }
  },
  {
   "cell_type": "code",
   "execution_count": 15,
   "outputs": [],
   "source": [
    "rej, P_corr = STA.multitest.fdrcorrection(APOE_comp['P Value'])"
   ],
   "metadata": {
    "collapsed": false,
    "pycharm": {
     "name": "#%%\n"
    }
   }
  },
  {
   "cell_type": "code",
   "execution_count": 16,
   "outputs": [],
   "source": [
    "APOE_comp['P corrected'] = P_corr"
   ],
   "metadata": {
    "collapsed": false,
    "pycharm": {
     "name": "#%%\n"
    }
   }
  },
  {
   "cell_type": "code",
   "execution_count": 16,
   "outputs": [],
   "source": [
    "APOE_comp.to_csv('volume_APOE_comparison.csv')"
   ],
   "metadata": {
    "collapsed": false,
    "pycharm": {
     "name": "#%%\n"
    }
   }
  },
  {
   "cell_type": "code",
   "execution_count": 17,
   "outputs": [],
   "source": [
    "APOE_sig = APOE_comp[(APOE_comp['P corrected'] < 0.01)]"
   ],
   "metadata": {
    "collapsed": false,
    "pycharm": {
     "name": "#%%\n"
    }
   }
  },
  {
   "cell_type": "code",
   "execution_count": 31,
   "outputs": [],
   "source": [
    "\n"
   ],
   "metadata": {
    "collapsed": false,
    "pycharm": {
     "name": "#%%\n"
    }
   }
  }
 ],
 "metadata": {
  "kernelspec": {
   "name": "pycharm-9f4ff8e1",
   "language": "python",
   "display_name": "PyCharm (HW)"
  },
  "language_info": {
   "codemirror_mode": {
    "name": "ipython",
    "version": 2
   },
   "file_extension": ".py",
   "mimetype": "text/x-python",
   "name": "python",
   "nbconvert_exporter": "python",
   "pygments_lexer": "ipython2",
   "version": "2.7.6"
  }
 },
 "nbformat": 4,
 "nbformat_minor": 0
}